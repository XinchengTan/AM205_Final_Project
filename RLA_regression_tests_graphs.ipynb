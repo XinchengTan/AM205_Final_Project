{
 "cells": [
  {
   "cell_type": "code",
   "execution_count": 49,
   "metadata": {},
   "outputs": [],
   "source": [
    "import matplotlib.pyplot as plt\n",
    "import math\n",
    "from scipy.linalg import hadamard\n",
    "from sklearn import linear_model\n",
    "import numpy as np\n",
    "from numpy import *\n",
    "from numpy import linalg as LA\n",
    "import pandas as pd\n",
    "import types\n",
    "import random\n",
    "from math import *\n",
    "from scipy.optimize import minimize"
   ]
  },
  {
   "cell_type": "markdown",
   "metadata": {},
   "source": [
    "# RLA functions"
   ]
  },
  {
   "cell_type": "code",
   "execution_count": 2,
   "metadata": {},
   "outputs": [],
   "source": [
    "def RLA_mult(A, B, c, distribution = \"uniform\"):\n",
    "    \"\"\"\n",
    "    This function takes two large matrices A and B,\n",
    "    and computes A*B through random linear algebra method.\n",
    "\n",
    "    input:\n",
    "    A: m * n matrix (it can be numpy array or 2D python list)\n",
    "    B: n * p matrix (it can be numpy array or 2D python list)\n",
    "    c: positive integer, the number of samples\n",
    "    distribution: takes two values [\"uniform\", \"minvar\"]\n",
    "                  \"minvar\" is a probability distribution minimizes variance.\n",
    "    ----------------\n",
    "    output: approximation for AB\n",
    "    \"\"\"\n",
    "\n",
    "    # convert A and B to numpy arrays\n",
    "    if type(A) is list:\n",
    "        A = np.array(A)\n",
    "    if type(B) is list:\n",
    "        B = np.array(B)\n",
    "\n",
    "\n",
    "    m = A.shape[0]    # A: m*n; B:n*p\n",
    "    n = A.shape[1]\n",
    "    p = B.shape[1]\n",
    "    # check if dimensions of two matrices match\n",
    "    if n != B.shape[0]:\n",
    "        print(\"Dimensions of two matrices don't match.\")\n",
    "        return\n",
    "\n",
    "\n",
    "    # if the selected sampling distribution is uniform\n",
    "    if distribution == \"uniform\":\n",
    "        answer = np.zeros((m, p))\n",
    "        for t in range(c):\n",
    "            i = random.randint(0, n-1)\n",
    "            A_icol = A[:, [i]]\n",
    "            B_irow = B[[i], :]\n",
    "            answer += np.matmul(A_icol, B_irow)\n",
    "        return n * answer / c\n",
    "\n",
    "\n",
    "    # if the selected sampling distribution is to minimize variance\n",
    "    elif distribution == \"minvar\":\n",
    "        # calculate the sample distribution\n",
    "        weight_sum = 0\n",
    "        weights = []\n",
    "        for i in range(n):\n",
    "            w = np.linalg.norm(A[:, i]) * np.linalg.norm(B[i, :])\n",
    "            weights.append(w)\n",
    "            weight_sum += w\n",
    "        weights = np.array(weights) / weight_sum\n",
    "\n",
    "        # sample and calculate the answer\n",
    "        answer = np.zeros((m, p))\n",
    "        for t in range(c):\n",
    "            i = np.random.choice(np.arange(0, n), p = weights)\n",
    "            A_icol = A[:, [i]]\n",
    "            B_irow = B[[i], :]\n",
    "            answer += np.matmul(A_icol, B_irow) * (1/weights[i])\n",
    "        return answer / c\n",
    "\n",
    "    else:\n",
    "        print(\"Probability distribution type not valid.\")\n",
    "\n",
    "\n",
    "\n",
    "\n",
    "\n",
    "def generate_matrix(m, n, method=1, param = [0,1]):\n",
    "    \"\"\"\n",
    "    This function takes in dimensions m and n,\n",
    "    to randomly generate a matrix of m*n.\n",
    "    Each element in the matrix is drawn according to the method and param specified.\n",
    "\n",
    "    input:\n",
    "    m: int; the number of rows\n",
    "    n: int; the number of columns\n",
    "    method: int; represent the method/distirbution we generate matrix from\n",
    "            method = 1: all elements drawn from Uniform(param[0], param[1]).\n",
    "            method = 2: all elements drawn from Normal(param[0], param[1]^2)\n",
    "            method = 3: all elements are binary, take either 0 (probability of param[0]) or 1 (probability of param[1]),\n",
    "                        where param[0]+param[1] = 1.\n",
    "    ----------------\n",
    "    output: a 2-D numpy array representing the randomly generated matrix according to method and param.\n",
    "    \"\"\"\n",
    "    # uniform distribution\n",
    "    if method == 1:\n",
    "        M = np.random.rand(m,n)\n",
    "        if len(param) != 2:\n",
    "            return M\n",
    "        M = M * (param[1]-param[0])\n",
    "        M = M + param[0]\n",
    "        return M\n",
    "\n",
    "    # normal distribution\n",
    "    if method == 2:\n",
    "        if len(param) != 2:\n",
    "            return np.random.normal(0, 1, size=(m, n))\n",
    "        else:\n",
    "            return np.random.normal(param[0], param[1], size=(m, n))\n",
    "\n",
    "    # bernoumlli distribution\n",
    "    if method == 3:\n",
    "        M = np.zeros((m,n))\n",
    "        for i in range(m):\n",
    "            for j in range(n):\n",
    "                elem = np.random.choice(np.arange(0, 2), p = param)\n",
    "                M[i,j] = elem\n",
    "        return M\n",
    "\n",
    "    else:\n",
    "        print(\"Specified method not recognized.\")\n",
    "\n",
    "\n",
    "\n",
    "\n",
    "\n",
    "\n",
    "def frobenius_dist(true_mat, approx_mat):\n",
    "    \"\"\"\n",
    "    This function computes the frobenius distance between the approximated matrix\n",
    "    and the true matrix.\n",
    "    Which is given by the frobenius norm of (true_mat-approx_mat)/\n",
    "\n",
    "    input:\n",
    "    true_mat: numpy 2-D array; the true matrix\n",
    "    approx_mat: numpy 2-D array; the approximated matrix\n",
    "    ----------------\n",
    "    output: double; the frobenius distance between true_mat and approx_mat\n",
    "    \"\"\"\n",
    "    if true_mat.shape[0] == approx_mat.shape[0] and true_mat.shape[1] == approx_mat.shape[1]:\n",
    "        diff = true_mat - approx_mat\n",
    "        return LA.norm(diff, 'fro')\n",
    "    else:\n",
    "        print(\"Dimensions of two matricies doesn't match.\")"
   ]
  },
  {
   "cell_type": "code",
   "execution_count": 3,
   "metadata": {},
   "outputs": [],
   "source": [
    "def traditional_mult(A, B):\n",
    "    \"\"\"\n",
    "    This function takes two large matrices A and B,\n",
    "    and computes A*B through traditional multiplication method. \n",
    "\n",
    "    input:\n",
    "    A: m * n matrix (it can be numpy array or 2D python list)\n",
    "    B: n * p matrix (it can be numpy array or 2D python list)\n",
    "    ----------------\n",
    "    output: AB\n",
    "    \"\"\"\n",
    "\n",
    "    # convert A and B to numpy arrays\n",
    "    if type(A) is list:\n",
    "        A = np.array(A)\n",
    "    if type(B) is list:\n",
    "        B = np.array(B)\n",
    "        \n",
    "    m = A.shape[0]    # A: m*n; B:n*p\n",
    "    n = A.shape[1]\n",
    "    p = B.shape[1]\n",
    "    # check if dimensions of two matrices match\n",
    "    if n != B.shape[0]:\n",
    "        print(\"Dimensions of two matrices don't match.\")\n",
    "        return\n",
    "    \n",
    "    AB = np.zeros((m,p))\n",
    "    \n",
    "    for i in range(m):\n",
    "        for j in range(p):\n",
    "            AB[i,j] = np.matmul(A[i,:],B[:,j])\n",
    "    \n",
    "    return AB"
   ]
  },
  {
   "cell_type": "markdown",
   "metadata": {},
   "source": [
    "# Randomized Lasso Regression 1: randon sampling"
   ]
  },
  {
   "cell_type": "code",
   "execution_count": 4,
   "metadata": {},
   "outputs": [],
   "source": [
    "def RLasso_sampling(A, b, err_tolerance, alpha=0.1):\n",
    "    \"\"\"\n",
    "    A is a n*d matrix, b is a n-element vector.\n",
    "    We aim to use random sampling to construct a reduced version of the problem,\n",
    "    and solve through LASSO regression.\n",
    "    \n",
    "    input: \n",
    "    A: numpy 2D array of n*d representing data points where n is the number of data points\n",
    "    b: n-element vector\n",
    "    alpha: hyperparameter representing the coefficient in front of LASSO regularizing factor\n",
    "    err_tolerance: error tolerance for the randomized regression\n",
    "    ---------------------------------\n",
    "    output: a model object that contains approximated solution x for Ax=b using LASSO regression\n",
    "    \"\"\"\n",
    "    n = A.shape[0]\n",
    "    d = A.shape[1]\n",
    "\n",
    "    # compute the proper r\n",
    "    ln40nd = np.log(40*n*d)\n",
    "    r = max(48*48*d*ln40nd*np.log(10000*d*ln40nd), 40*d*ln40nd/err_tolerance)\n",
    "    r = int(r)\n",
    "    \n",
    "    # construct S matrix\n",
    "    S = np.zeros((n,r))\n",
    "    for l in range(r):\n",
    "        k_l = random.randint(0, n-1)\n",
    "        S[k_l, l] = math.sqrt(n/r)\n",
    "\n",
    "    \n",
    "    # construct H, note that H is n*n where n is a power of 2\n",
    "    # find the smallest power of 2 n' greater or equal to n \n",
    "    power =  ceil(np.log2(n))\n",
    "    n_ = pow(2, power) \n",
    "    H = hadamard(n_)/sqrt(n_)\n",
    "    # truncate H to only have n*n entries\n",
    "    H = H[0:n,0:n]\n",
    "    \n",
    "    # construct D, note that D is n*n diagonal matrix\n",
    "    D = np.identity(n)\n",
    "    for i in range(n):\n",
    "        if random.random() < 0.5:\n",
    "            D[i,i] = -1\n",
    "    \n",
    "    P = np.matmul(np.matmul(np.transpose(S), H), D)\n",
    "    newA = np.matmul(P, A)\n",
    "    newb = np.matmul(P, b)\n",
    "    \n",
    "    # solve the lasso regression problem\n",
    "    clf = linear_model.Lasso(alpha=alpha)\n",
    "    clf.fit(newA, newb)\n",
    "    \n",
    "    # returns a model object.\n",
    "    # use clf.intercept_ to get the intercept\n",
    "    # use clf.coef_ to get the coefficients\n",
    "    return clf"
   ]
  },
  {
   "cell_type": "markdown",
   "metadata": {},
   "source": [
    "Tests on accuracy and performance by fitting our randomized Lasso regression on generated simluation data. "
   ]
  },
  {
   "cell_type": "code",
   "execution_count": 32,
   "metadata": {},
   "outputs": [],
   "source": [
    "\"\"\"Generate random data\"\"\"\n",
    "size = 256\n",
    "alpha = 0.001\n",
    "\n",
    "np.random.seed(1)\n",
    "X = 2.5 * np.random.randn(size) + 1.5\n",
    "res = 1 * np.random.randn(size)\n",
    "y = 2 + 0.6 * X + res\n",
    "\n",
    "X = X.reshape((size,1))\n",
    "y = y.reshape((size,1))"
   ]
  },
  {
   "cell_type": "code",
   "execution_count": 33,
   "metadata": {},
   "outputs": [
    {
     "name": "stdout",
     "output_type": "stream",
     "text": [
      "[0.88886093]\n",
      "[-0.00482703]\n"
     ]
    }
   ],
   "source": [
    "\"\"\"Fitting data and predicting data using randomized LASSO regression\"\"\"\n",
    "RLasso_model = RLasso_sampling(X, y, 1, alpha=alpha)\n",
    "print(RLasso_model.coef_)\n",
    "print(RLasso_model.intercept_)\n",
    "\n",
    "# calculate the prediction\n",
    "RLasso_ypred = X*RLasso_model.coef_[0] + RLasso_model.intercept_[0]"
   ]
  },
  {
   "cell_type": "code",
   "execution_count": 34,
   "metadata": {},
   "outputs": [
    {
     "name": "stdout",
     "output_type": "stream",
     "text": [
      "[0.61856297]\n",
      "[2.00148296]\n"
     ]
    }
   ],
   "source": [
    "\"\"\"Fitting data and predicting data using randomized traditional regression\"\"\"\n",
    "TLasso_model = linear_model.Lasso(alpha=alpha)\n",
    "TLasso_model.fit(X, y)\n",
    "print(TLasso_model.coef_)\n",
    "print(TLasso_model.intercept_)\n",
    "\n",
    "# calculate the prediction\n",
    "TLasso_ypred = X*TLasso_model.coef_[0] + TLasso_model.intercept_[0]"
   ]
  },
  {
   "cell_type": "code",
   "execution_count": 35,
   "metadata": {},
   "outputs": [
    {
     "data": {
      "text/plain": [
       "<matplotlib.legend.Legend at 0x1a260e1da0>"
      ]
     },
     "execution_count": 35,
     "metadata": {},
     "output_type": "execute_result"
    },
    {
     "data": {
      "image/png": "[encoded data removed]",
      "text/plain": [
       "<Figure size 864x432 with 1 Axes>"
      ]
     },
     "metadata": {
      "needs_background": "light"
     },
     "output_type": "display_data"
    }
   ],
   "source": [
    "# Plot regression against actual data\n",
    "plt.figure(figsize=(12, 6))\n",
    "plt.plot(X, RLasso_ypred, label=\"Randomized Lasso regression\")     # randomized Lasso regression line\n",
    "plt.plot(X, TLasso_ypred, label=\"Traditional Lasso regression\")     # traditional Lasso regression line\n",
    "plt.plot(X, y, 'ro', label=\"data points\", alpha = 0.8)   # scatter plot showing actual data\n",
    "plt.title(\"Random sampling method for Lasso regression with penalty factor = 0.001\")\n",
    "plt.xlabel('X')\n",
    "plt.ylabel('y')\n",
    "\n",
    "plt.legend()"
   ]
  },
  {
   "cell_type": "markdown",
   "metadata": {},
   "source": [
    "# Randomized Lasso Regression 2: randon projection"
   ]
  },
  {
   "cell_type": "code",
   "execution_count": 36,
   "metadata": {},
   "outputs": [],
   "source": [
    "def RLasso_projection(A, b, err_tolerance, Cq, Ck, alpha=0.1):\n",
    "    \"\"\"\n",
    "    A is a n*d matrix, b is a n-element vector.\n",
    "    We aim to use random sampling to construct a reduced version of the problem,\n",
    "    and solve through LASSO regression.\n",
    "    \n",
    "    input: \n",
    "    A: numpy 2D array of n*d representing data points where n is the number of data points\n",
    "    b: n-element vector\n",
    "    alpha: hyperparameter representing the coefficient in front of LASSO regularizing factor\n",
    "    err_tolerance: error tolerance for the randomized regression\n",
    "    Cq: tunable hyperparameters according to the random projection algorithm\n",
    "    Ck: tunable hyperparameters according to the random projection algorithm\n",
    "    ---------------------------------\n",
    "    output: a model object that contains approximated solution x for Ax=b using LASSO regression\n",
    "    \"\"\"\n",
    "    n = A.shape[0]\n",
    "    d = A.shape[1]\n",
    "\n",
    "    # compute the proper r\n",
    "    ln40nd = np.log(40*n*d)\n",
    "    q = Cq*d*ln40nd/n*(2*np.log(n)+16*d+16)\n",
    "    print(q)\n",
    "    r = int(max(Ck*(188*188*d+98*98), 60*d/err_tolerance))\n",
    "    \n",
    "    # construct T matrix\n",
    "    T = np.zeros((r,n))\n",
    "    for i in range(r):\n",
    "        for j in range(n):\n",
    "            possible_entries = [sqrt(1/r/q), -sqrt(1/r/q), 0]\n",
    "            weights = [q/2, q/2, 1-q]\n",
    "            T[i,j] = np.random.choice(possible_entries, p = weights)\n",
    "    \n",
    "    # construct H, note that H is n*n where n is a power of 2\n",
    "    # find the smallest power of 2 n' greater or equal to n \n",
    "    power =  ceil(np.log2(n))\n",
    "    n_ = pow(2, power) \n",
    "    H = hadamard(n_)/sqrt(n_)\n",
    "    # truncate H to only have n*n entries\n",
    "    H = H[0:n,0:n]\n",
    "    \n",
    "    # construct D, note that D is n*n diagonal matrix\n",
    "    D = np.identity(n)\n",
    "    for i in range(n):\n",
    "        if random.random() < 0.5:\n",
    "            D[i,i] = -1\n",
    "    \n",
    "    P = np.matmul(np.matmul(T, H), D)\n",
    "    newA = np.matmul(P, A)\n",
    "    newb = np.matmul(P, b)\n",
    "    \n",
    "    # solve the lasso regression problem\n",
    "    clf = linear_model.Lasso(alpha=alpha)\n",
    "    clf.fit(newA, newb)\n",
    "    \n",
    "    # returns a model object.\n",
    "    # use clf.intercept_ to get the intercept\n",
    "    # use clf.coef_ to get the coefficients\n",
    "    return clf"
   ]
  },
  {
   "cell_type": "code",
   "execution_count": 43,
   "metadata": {},
   "outputs": [],
   "source": [
    "\"\"\"Generate random data\"\"\"\n",
    "size = 256\n",
    "alpha = 0.001\n",
    "\n",
    "np.random.seed(1)\n",
    "X = 2.5 * np.random.randn(size) + 1.5\n",
    "res = 1 * np.random.randn(size)\n",
    "y = 2 + 0.6 * X + res\n",
    "\n",
    "X = X.reshape((size,1))\n",
    "y = y.reshape((size,1))"
   ]
  },
  {
   "cell_type": "code",
   "execution_count": 44,
   "metadata": {},
   "outputs": [
    {
     "name": "stdout",
     "output_type": "stream",
     "text": [
      "0.0015542921438485746\n",
      "[1.05589898]\n",
      "[-0.52284563]\n"
     ]
    }
   ],
   "source": [
    "\"\"\"Fitting data and predicting data using randomized LASSO regression\"\"\"\n",
    "RpLasso_model = RLasso_projection(X, y, 1, 0.001, 0.001, alpha=alpha)\n",
    "print(RpLasso_model.coef_)\n",
    "print(RpLasso_model.intercept_)\n",
    "\n",
    "# calculate the prediction\n",
    "RpLasso_ypred = X*RpLasso_model.coef_[0] + RpLasso_model.intercept_[0]"
   ]
  },
  {
   "cell_type": "code",
   "execution_count": 45,
   "metadata": {
    "scrolled": true
   },
   "outputs": [
    {
     "data": {
      "text/plain": [
       "<matplotlib.legend.Legend at 0x1a27b10c50>"
      ]
     },
     "execution_count": 45,
     "metadata": {},
     "output_type": "execute_result"
    },
    {
     "data": {
      "image/png": "[encoded data removed]",
      "text/plain": [
       "<Figure size 864x432 with 1 Axes>"
      ]
     },
     "metadata": {
      "needs_background": "light"
     },
     "output_type": "display_data"
    }
   ],
   "source": [
    "# Plot regression against actual data\n",
    "plt.figure(figsize=(12, 6))\n",
    "plt.plot(X, RpLasso_ypred, label=\"Randomized Lasso regression - random projection\")     # randomized Lasso regression line\n",
    "plt.plot(X, RLasso_ypred, label=\"Randomized Lasso regression - random sampling\")     # randomized Lasso regression line\n",
    "plt.plot(X, TLasso_ypred, label=\"Traditional Lasso regression\")     # traditional Lasso regression line\n",
    "plt.plot(X, y, 'ro', label=\"data points\", alpha = 0.8)   # scatter plot showing actual data\n",
    "plt.title(\"Random projection method for Lasso regression with penalty factor = 0.001\")\n",
    "plt.xlabel('X')\n",
    "plt.ylabel('y')\n",
    "\n",
    "plt.legend()"
   ]
  },
  {
   "cell_type": "markdown",
   "metadata": {},
   "source": [
    "# Randomized Lasso Regression 3: Accelerated sparse linear regression via random projection"
   ]
  },
  {
   "cell_type": "code",
   "execution_count": 133,
   "metadata": {},
   "outputs": [],
   "source": [
    "def SLRviaRP(X, y, lam_0, lam_min, k, eta, T, gamma=0.01):\n",
    "    \"\"\"\n",
    "    Accelerated Sparse Linear Regression via Random Projection.\n",
    "    \"\"\"\n",
    "    d, n = X.shape\n",
    "    Z = np.random.normal(0, 1, d*k).reshape(d, k)\n",
    "    X_t = np.transpose(X)\n",
    "    Q, R = np.linalg.qr(np.matmul(X_t, Z))\n",
    "    X_hat = np.matmul(np.matmul(X, Q), np.transpose(Q))\n",
    "\n",
    "\n",
    "    def f(x):\n",
    "        # the target optimization problem\n",
    "        # this function will be used in the scipy minimize function\n",
    "        first_term = -(1/n)*np.matmul(np.matmul(np.transpose(x-B_t),X_hat),y-np.matmul(np.transpose(X_hat),B_t))\n",
    "        regularizing_terms = lam_t*LA.norm(x,1) + gamma/2*LA.norm(x-B_t)**2\n",
    "        return first_term + regularizing_terms\n",
    "\n",
    "    B_t = np.zeros(d).reshape((d,1))\n",
    "    for t in range(T):\n",
    "        lam_t = max(lam_min, lam_0*(eta**t))\n",
    "        # now we solve the optimization problem listed in the algorithm line 9\n",
    "\n",
    "        B_next = minimize(f, B_t, method=\"nelder-mead\").x\n",
    "        B_t = B_next.reshape((d,1))\n",
    "\n",
    "    return B_t"
   ]
  },
  {
   "cell_type": "code",
   "execution_count": null,
   "metadata": {},
   "outputs": [],
   "source": []
  }
 ],
 "metadata": {
  "kernelspec": {
   "display_name": "Python 3",
   "language": "python",
   "name": "python3"
  },
  "language_info": {
   "codemirror_mode": {
    "name": "ipython",
    "version": 3
   },
   "file_extension": ".py",
   "mimetype": "text/x-python",
   "name": "python",
   "nbconvert_exporter": "python",
   "pygments_lexer": "ipython3",
   "version": "3.6.8"
  }
 },
 "nbformat": 4,
 "nbformat_minor": 2
}
